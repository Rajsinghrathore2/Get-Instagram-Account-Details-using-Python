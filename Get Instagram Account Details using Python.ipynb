{
 "cells": [
  {
   "cell_type": "code",
   "execution_count": 8,
   "id": "61f5e34b",
   "metadata": {},
   "outputs": [
    {
     "name": "stdout",
     "output_type": "stream",
     "text": [
      "Defaulting to user installation because normal site-packages is not writeableNote: you may need to restart the kernel to use updated packages.\n",
      "\n",
      "Collecting instaloader\n",
      "  Downloading instaloader-4.10.2.tar.gz (62 kB)\n",
      "     -------------------------------------- 62.2/62.2 kB 222.0 kB/s eta 0:00:00\n",
      "  Preparing metadata (setup.py): started\n",
      "  Preparing metadata (setup.py): finished with status 'done'\n",
      "Requirement already satisfied: requests>=2.4 in c:\\programdata\\anaconda3\\anaconda\\lib\\site-packages (from instaloader) (2.28.1)\n",
      "Requirement already satisfied: urllib3<1.27,>=1.21.1 in c:\\programdata\\anaconda3\\anaconda\\lib\\site-packages (from requests>=2.4->instaloader) (1.26.14)\n",
      "Requirement already satisfied: idna<4,>=2.5 in c:\\programdata\\anaconda3\\anaconda\\lib\\site-packages (from requests>=2.4->instaloader) (3.4)\n",
      "Requirement already satisfied: charset-normalizer<3,>=2 in c:\\programdata\\anaconda3\\anaconda\\lib\\site-packages (from requests>=2.4->instaloader) (2.0.4)\n",
      "Requirement already satisfied: certifi>=2017.4.17 in c:\\programdata\\anaconda3\\anaconda\\lib\\site-packages (from requests>=2.4->instaloader) (2023.7.22)\n",
      "Building wheels for collected packages: instaloader\n",
      "  Building wheel for instaloader (setup.py): started\n",
      "  Building wheel for instaloader (setup.py): finished with status 'done'\n",
      "  Created wheel for instaloader: filename=instaloader-4.10.2-py3-none-any.whl size=64068 sha256=c5f3afd3413b5991cdd32200c3e4e3b076fe7cadf422efd76679966e9e361fe2\n",
      "  Stored in directory: c:\\users\\sony\\appdata\\local\\pip\\cache\\wheels\\fb\\c5\\d8\\5819aedd761689a09013bb7c5392f0d0883ccb82ca5fbad4ad\n",
      "Successfully built instaloader\n",
      "Installing collected packages: instaloader\n",
      "Successfully installed instaloader-4.10.2\n"
     ]
    },
    {
     "name": "stderr",
     "output_type": "stream",
     "text": [
      "  WARNING: The script instaloader.exe is installed in 'C:\\Users\\SONY\\AppData\\Roaming\\Python\\Python310\\Scripts' which is not on PATH.\n",
      "  Consider adding this directory to PATH or, if you prefer to suppress this warning, use --no-warn-script-location.\n"
     ]
    }
   ],
   "source": [
    "pip install instaloader"
   ]
  },
  {
   "cell_type": "code",
   "execution_count": 10,
   "id": "6b0dbc90",
   "metadata": {},
   "outputs": [
    {
     "name": "stdout",
     "output_type": "stream",
     "text": [
      "Enter username:gurgaonqueen2023\n",
      "Username:  gurgaonqueen2023\n",
      "Number of Posts Uploaded:  409\n",
      "gurgaonqueen2023 is having 4038 followers.\n",
      "gurgaonqueen2023 is following 10 people\n",
      "Bio:  Fashion | Influencer \n",
      "♨️♨️सभी से निवेदन है कि हमें Follow जरूर करें⚠️⚠️ 📸 Education 📷 Podcast 🌟Fashion 🌟Beauty 🌟lifestyle Travel🌟 luxury\n",
      "Stored ID 59350379970 for profile gurgaonqueen2023.\n",
      "gurgaonqueen2023\\2023-04-28_08-46-11_UTC_profile_pic.jpg \n"
     ]
    }
   ],
   "source": [
    "import instaloader\n",
    "\n",
    "# creating an Instaloader() object\n",
    "ig=instaloader.Instaloader()\n",
    "\n",
    "# Taking the instagram username as input from user\n",
    "usrname=input(\"Enter username:\")\n",
    "\n",
    "#Fetching the details of provided useraname using instaloder object\n",
    "profile=instaloader.Profile.from_username(ig.context, usrname)\n",
    "\n",
    "# Printing the fetched details and storing the profile pic of that account\n",
    "print(\"Username: \", profile.username)\n",
    "print(\"Number of Posts Uploaded: \", profile.mediacount)\n",
    "print(profile.username+\" is having \" + str(profile.followers)+' followers.')\n",
    "print(profile.username+\" is following \" + str(profile.followees)+' people')\n",
    "print(\"Bio: \", profile.biography)\n",
    "instaloader.Instaloader().download_profile(usrname,profile_pic_only=True)"
   ]
  },
  {
   "cell_type": "code",
   "execution_count": 11,
   "id": "c2e79c70",
   "metadata": {},
   "outputs": [
    {
     "name": "stdout",
     "output_type": "stream",
     "text": [
      "Enter username:rajsinghrathoreofficial\n",
      "Username:  rajsinghrathoreofficial\n",
      "Number of Posts Uploaded:  716\n",
      "rajsinghrathoreofficial is having 815 followers.\n",
      "rajsinghrathoreofficial is following 62 people\n",
      "Bio:  •Edits|Memes|Quotes|Exclusive|Content\n",
      "*ENTERPRENEUR \n",
      "*BUSINESS | MOTIVATION | MONEY\n",
      "*DIGITAL CREATOR\n",
      "*PROPERTY BLOGGER\n",
      "*VIDEO CREATOR\n",
      "*ARTIST\n",
      "Stored ID 56060181576 for profile rajsinghrathoreofficial.\n",
      "rajsinghrathoreofficial\\2022-10-30_10-41-58_UTC_profile_pic.jpg \n"
     ]
    }
   ],
   "source": [
    "import instaloader\n",
    "\n",
    "# creating an Instaloader() object\n",
    "ig=instaloader.Instaloader()\n",
    "\n",
    "# Taking the instagram username as input from user\n",
    "usrname=input(\"Enter username:\")\n",
    "\n",
    "#Fetching the details of provided useraname using instaloder object\n",
    "profile=instaloader.Profile.from_username(ig.context, usrname)\n",
    "\n",
    "# Printing the fetched details and storing the profile pic of that account\n",
    "print(\"Username: \", profile.username)\n",
    "print(\"Number of Posts Uploaded: \", profile.mediacount)\n",
    "print(profile.username+\" is having \" + str(profile.followers)+' followers.')\n",
    "print(profile.username+\" is following \" + str(profile.followees)+' people')\n",
    "print(\"Bio: \", profile.biography)\n",
    "instaloader.Instaloader().download_profile(usrname,profile_pic_only=True)"
   ]
  },
  {
   "cell_type": "code",
   "execution_count": 12,
   "id": "f802f266",
   "metadata": {},
   "outputs": [
    {
     "name": "stdout",
     "output_type": "stream",
     "text": [
      "Enter username:ezsnippet\n",
      "Username:  ezsnippet\n",
      "Number of Posts Uploaded:  631\n",
      "ezsnippet is having 1752563 followers.\n",
      "ezsnippet is following 15 people\n",
      "Bio:  📕 Coding made Ez.\n",
      "🕸️ I build websites am a Weber\n",
      "🎥 Livestream Hightlights - @ezsnippetlive \n",
      "For collaboration - nwalia.ez@gmail.com\n",
      "Stored ID 59856346363 for profile ezsnippet.\n",
      "ezsnippet\\2023-08-06_19-18-54_UTC_profile_pic.jpg \n"
     ]
    }
   ],
   "source": [
    "import instaloader\n",
    "\n",
    "# creating an Instaloader() object\n",
    "ig=instaloader.Instaloader()\n",
    "\n",
    "# Taking the instagram username as input from user\n",
    "usrname=input(\"Enter username:\")\n",
    "\n",
    "#Fetching the details of provided useraname using instaloder object\n",
    "profile=instaloader.Profile.from_username(ig.context, usrname)\n",
    "\n",
    "# Printing the fetched details and storing the profile pic of that account\n",
    "print(\"Username: \", profile.username)\n",
    "print(\"Number of Posts Uploaded: \", profile.mediacount)\n",
    "print(profile.username+\" is having \" + str(profile.followers)+' followers.')\n",
    "print(profile.username+\" is following \" + str(profile.followees)+' people')\n",
    "print(\"Bio: \", profile.biography)\n",
    "instaloader.Instaloader().download_profile(usrname,profile_pic_only=True)"
   ]
  },
  {
   "cell_type": "code",
   "execution_count": null,
   "id": "b9756f52",
   "metadata": {},
   "outputs": [],
   "source": []
  }
 ],
 "metadata": {
  "kernelspec": {
   "display_name": "Python 3 (ipykernel)",
   "language": "python",
   "name": "python3"
  },
  "language_info": {
   "codemirror_mode": {
    "name": "ipython",
    "version": 3
   },
   "file_extension": ".py",
   "mimetype": "text/x-python",
   "name": "python",
   "nbconvert_exporter": "python",
   "pygments_lexer": "ipython3",
   "version": "3.10.9"
  }
 },
 "nbformat": 4,
 "nbformat_minor": 5
}
